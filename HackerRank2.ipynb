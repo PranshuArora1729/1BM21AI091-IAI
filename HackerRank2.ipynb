{
  "nbformat": 4,
  "nbformat_minor": 0,
  "metadata": {
    "colab": {
      "provenance": []
    },
    "kernelspec": {
      "name": "python3",
      "display_name": "Python 3"
    },
    "language_info": {
      "name": "python"
    }
  },
  "cells": [
    {
      "cell_type": "code",
      "execution_count": 1,
      "metadata": {
        "colab": {
          "base_uri": "https://localhost:8080/"
        },
        "id": "O3iuAPQ7M9jv",
        "outputId": "234a5aba-a744-463e-86cb-8a9981314034"
      },
      "outputs": [
        {
          "output_type": "stream",
          "name": "stdout",
          "text": [
            "9/10\n"
          ]
        }
      ],
      "source": [
        "def main():\n",
        "    # Input probabilities\n",
        "    prob_not_reading_morning = 0.5\n",
        "    prob_not_reading_evening = 0.4\n",
        "    prob_reading_both = 0.2\n",
        "    prob_reading_morning = 1-prob_not_reading_morning\n",
        "    prob_reading_evening = 1-prob_not_reading_evening\n",
        "\n",
        "\n",
        "    # Calculate the probability of reading morning or evening newspaper\n",
        "    prob_reading_morning_or_evening = (prob_reading_morning + prob_reading_evening - prob_reading_both)\n",
        "\n",
        "    # Print the result as an irreducible fraction\n",
        "    print(convert_to_fraction(prob_reading_morning_or_evening))\n",
        "\n",
        "# Function to convert a decimal to an irreducible fraction\n",
        "def convert_to_fraction(decimal):\n",
        "    from fractions import Fraction\n",
        "    fraction = Fraction(decimal).limit_denominator()\n",
        "    return f\"{fraction.numerator}/{fraction.denominator}\"\n",
        "\n",
        "if __name__ == \"__main__\":\n",
        "    main()\n"
      ]
    },
    {
      "cell_type": "code",
      "source": [],
      "metadata": {
        "id": "avRSAGP_NAYb"
      },
      "execution_count": null,
      "outputs": []
    }
  ]
}